{
 "cells": [
  {
   "cell_type": "code",
   "execution_count": 1,
   "metadata": {
    "collapsed": false,
    "deletable": true,
    "editable": true
   },
   "outputs": [
    {
     "name": "stderr",
     "output_type": "stream",
     "text": [
      "C:\\Users\\smahe\\AppData\\Local\\Programs\\Python\\Python35\\lib\\site-packages\\h5py\\__init__.py:36: FutureWarning: Conversion of the second argument of issubdtype from `float` to `np.floating` is deprecated. In future, it will be treated as `np.float64 == np.dtype(float).type`.\n",
      "  from ._conv import register_converters as _register_converters\n",
      "Using TensorFlow backend.\n"
     ]
    }
   ],
   "source": [
    "import sklearn\n",
    "from hmmlearn import hmm\n",
    "import numpy as np\n",
    "import requests\n",
    "import json\n",
    "from keras.utils import to_categorical\n",
    "from keras.models import Sequential\n",
    "from keras.layers import Dense, LSTM, Dropout\n",
    "from keras.preprocessing.sequence import pad_sequences\n"
   ]
  },
  {
   "cell_type": "markdown",
   "metadata": {},
   "source": [
    "# Retrieve Card Data#\n",
    "\n",
    "Pull the card text of all playable Hearthstone cards from https://hearthstonejson.com/"
   ]
  },
  {
   "cell_type": "code",
   "execution_count": 148,
   "metadata": {
    "collapsed": false,
    "deletable": true,
    "editable": true
   },
   "outputs": [
    {
     "name": "stdout",
     "output_type": "stream",
     "text": [
      "200\n"
     ]
    }
   ],
   "source": [
    "response = requests.get(\"https://api.hearthstonejson.com/v1/25252/enUS/cards.collectible.json\")\n",
    "\n",
    "print(response.status_code)\n"
   ]
  },
  {
   "cell_type": "code",
   "execution_count": 152,
   "metadata": {
    "collapsed": false,
    "deletable": true,
    "editable": true
   },
   "outputs": [
    {
     "name": "stdout",
     "output_type": "stream",
     "text": [
      "['Deal $8 damage to a minion.', '<b>Secret:</b> When a friendly minion dies, summon a random minion with the same Cost.', 'Your Hero Power deals 1 extra damage.', 'Deal $2 damage to a minion. This spell gets double bonus from <b>Spell Damage</b>.', 'Transform a minion into a 4/2 Boar with <b>Charge</b>.']\n"
     ]
    }
   ],
   "source": [
    "cards_list = response.json()\n",
    "\n",
    "cards_w_text = list(filter(lambda x:'text'in x.keys(), cards_list))\n",
    "\n",
    "card_desc = list(map(lambda x:  x['text'], cards_w_text))\n",
    "\n",
    "print(card_desc[:5])"
   ]
  },
  {
   "cell_type": "markdown",
   "metadata": {},
   "source": [
    "# Clean the text#\n",
    "\n",
    "Remove punctuation and strange characters"
   ]
  },
  {
   "cell_type": "code",
   "execution_count": 153,
   "metadata": {
    "collapsed": false,
    "deletable": true,
    "editable": true
   },
   "outputs": [
    {
     "name": "stdout",
     "output_type": "stream",
     "text": [
      "['deal 8 damage to a minion', 'secret when a friendly minion dies, summon a random minion with the same cost', 'your hero power deals 1 extra damage', 'deal 2 damage to a minion this spell gets double bonus from spell damage', 'transform a minion into a 4/2 boar with charge']\n"
     ]
    }
   ],
   "source": [
    "lines = (filter(lambda x: x != 'NIL', card_desc))\n",
    "\n",
    "lines = (map(lambda x: x.replace('\\n', ' ').replace('\\xa0',' ').replace('[x]', '').replace('{1}','')\n",
    "                 .replace('{0}', '').replace('@', '').replace(';', ''), lines))\n",
    "\n",
    "lines = (map(lambda x: x.replace(\".\", \"\").replace(\"!\", \"\").replace(\"?\", \"\").replace(\"<b>\", \"\").replace(\"</b>\", \"\")\n",
    "             .replace(\"</i>\", \"\").replace(\"<i>\", \"\"), lines))\n",
    "\n",
    "lines = (map(lambda x: x.replace(\"$\", \"\").replace(\"+\", \"\")\n",
    "             .replace(\"(\", \"\").replace(\")\", \"\").replace(\"#\", \"\").replace(\":\", \"\"), lines))\n",
    "\n",
    "lines = list(map(lambda x: x.lower(), lines))\n",
    "\n",
    "print(lines[:5])\n"
   ]
  },
  {
   "cell_type": "markdown",
   "metadata": {},
   "source": [
    "# Create a words mapping #\n",
    "\n",
    "Create a map of all words in the card descriptions and encode them."
   ]
  },
  {
   "cell_type": "code",
   "execution_count": 154,
   "metadata": {
    "collapsed": false,
    "deletable": true,
    "editable": true
   },
   "outputs": [
    {
     "name": "stdout",
     "output_type": "stream",
     "text": [
      "8.873158231902627\n"
     ]
    }
   ],
   "source": [
    "flat_list = [item for sublist in lines for item in sublist]\n",
    "\n",
    "chars = sorted(list(set(flat_list)))\n",
    "\n",
    "mapping = dict((c, i) for i, c in enumerate(chars))\n",
    "\n",
    "words = list(map(lambda x: x.split(\" \"), lines))\n",
    "\n",
    "flat_list_words = [item for sublist in words for item in sublist]\n",
    "\n",
    "all_words = sorted(list(set(flat_list_words)))\n",
    "word_map = dict((c, i) for i, c in enumerate(all_words))\n",
    "\n",
    "print(np.mean(np.array(list(map(lambda x: len(x), words)))))"
   ]
  },
  {
   "cell_type": "code",
   "execution_count": 155,
   "metadata": {
    "collapsed": false,
    "deletable": true,
    "editable": true
   },
   "outputs": [
    {
     "name": "stdout",
     "output_type": "stream",
     "text": [
      "Vocabulary Size: 44\n"
     ]
    }
   ],
   "source": [
    "sequences = list()\n",
    "for line in lines:\n",
    "    # integer encode line\n",
    "    encoded_seq = [mapping[char] for char in line]\n",
    "    # store\n",
    "    sequences.append((np.array(encoded_seq)))\n",
    "\n",
    "# vocabulary size\n",
    "vocab_size = len(mapping)\n",
    "print('Vocabulary Size: %d' % vocab_size)"
   ]
  },
  {
   "cell_type": "code",
   "execution_count": 156,
   "metadata": {
    "collapsed": false,
    "deletable": true,
    "editable": true
   },
   "outputs": [
    {
     "name": "stdout",
     "output_type": "stream",
     "text": [
      "44\n"
     ]
    }
   ],
   "source": [
    "temp = []\n",
    "lengths_arr = []\n",
    "for line in words:\n",
    "    # integer encode line\n",
    "    encoded_seq = ([np.array(word_map[word]) for word in line])\n",
    "    lengths_arr.append(len(encoded_seq))\n",
    "    # store\n",
    "    temp += encoded_seq\n",
    "\n",
    "# vocabulary size\n",
    "vocab_size = len(mapping)\n",
    "print(vocab_size)"
   ]
  },
  {
   "cell_type": "markdown",
   "metadata": {
    "collapsed": false,
    "deletable": true,
    "editable": true
   },
   "source": [
    "# Train a Hidden Markov Model#\n",
    "\n",
    "The Hidden Markov Model learns the hidden states composing a Hearthstone card description, <br />\n",
    "and builds a random sample that should resemble some card description."
   ]
  },
  {
   "cell_type": "code",
   "execution_count": 158,
   "metadata": {
    "collapsed": false,
    "deletable": true,
    "editable": true
   },
   "outputs": [
    {
     "data": {
      "text/plain": [
       "MultinomialHMM(algorithm='viterbi', init_params='ste', n_components=6,\n",
       "        n_iter=10, params='ste',\n",
       "        random_state=<mtrand.RandomState object at 0x0000022FCF1656C0>,\n",
       "        startprob_prior=1.0, tol=0.01, transmat_prior=1.0, verbose=False)"
      ]
     },
     "execution_count": 158,
     "metadata": {},
     "output_type": "execute_result"
    }
   ],
   "source": [
    "sequences = np.array(temp)\n",
    "sequences = (np.array(sequences.reshape(-1,1)))\n",
    "\n",
    "hmm_model = hmm.MultinomialHMM(n_components=6)\n",
    "hmm_model.fit(sequences, lengths_arr)"
   ]
  },
  {
   "cell_type": "markdown",
   "metadata": {},
   "source": [
    "# Generate sequence from HMM#\n",
    "The sequence should generate something resembling a card description. <br />\n",
    "However, perhaps due to sample size, results are underwhelming."
   ]
  },
  {
   "cell_type": "code",
   "execution_count": 159,
   "metadata": {
    "collapsed": false,
    "deletable": true,
    "editable": true
   },
   "outputs": [
    {
     "name": "stdout",
     "output_type": "stream",
     "text": [
      "deathrattle your enemy  silver each cost 50% player's one 1 taunt random your a damage this give health hand \n"
     ]
    }
   ],
   "source": [
    "predictions = hmm_model.sample(20)\n",
    "\n",
    "inv_map = {v: k for k, v in word_map.items()}\n",
    "\n",
    "output = \"\"\n",
    "\n",
    "for char_arr in predictions[0]:\n",
    "    \n",
    "    output += inv_map[char_arr[0]] + \" \"\n",
    "\n",
    "print(output)"
   ]
  },
  {
   "cell_type": "markdown",
   "metadata": {},
   "source": [
    "# Create new sequences#\n",
    "Break down card text into sequences of a set length. "
   ]
  },
  {
   "cell_type": "code",
   "execution_count": 81,
   "metadata": {
    "collapsed": false,
    "deletable": true,
    "editable": true
   },
   "outputs": [
    {
     "name": "stdout",
     "output_type": "stream",
     "text": [
      "Total Sequences: 59309\n"
     ]
    }
   ],
   "source": [
    "joined_lines  = \" \".join(lines)\n",
    "\n",
    "length = 10\n",
    "sequences = list()\n",
    "for line in lines:\n",
    "    for i in range(length, len(line)):\n",
    "        # select sequence of tokens\n",
    "        seq = line[i-length:i+1]\n",
    "        # store\n",
    "        sequences.append(seq)\n",
    "print('Total Sequences: %d' % len(sequences))\n",
    "\n",
    "new_input = sequences"
   ]
  },
  {
   "cell_type": "code",
   "execution_count": 125,
   "metadata": {
    "collapsed": false,
    "deletable": true,
    "editable": true
   },
   "outputs": [
    {
     "name": "stdout",
     "output_type": "stream",
     "text": [
      "['deal 8 dama', 'eal 8 damag', 'al 8 damage', 'l 8 damage ', ' 8 damage t', '8 damage to', ' damage to ', 'damage to a', 'amage to a ', 'mage to a m']\n"
     ]
    }
   ],
   "source": [
    "print(new_input[:10])"
   ]
  },
  {
   "cell_type": "markdown",
   "metadata": {},
   "source": [
    "# Create a character mapping #\n",
    "\n",
    "Create a map of all characters in the card descriptions and encode them."
   ]
  },
  {
   "cell_type": "code",
   "execution_count": 160,
   "metadata": {
    "collapsed": true,
    "deletable": true,
    "editable": true
   },
   "outputs": [],
   "source": [
    "chars = sorted(list(set(joined_lines)))\n",
    "mapping = dict((c, i) for i, c in enumerate(chars))\n",
    "\n",
    "vocab_size = len(mapping)\n",
    "\n",
    "sequences = list()\n",
    "for line in new_input:\n",
    "\t# integer encode line\n",
    "\tencoded_seq = [mapping[char] for char in line]\n",
    "\t# store\n",
    "\tsequences.append(np.array(encoded_seq))"
   ]
  },
  {
   "cell_type": "code",
   "execution_count": 161,
   "metadata": {
    "collapsed": false,
    "deletable": true,
    "editable": true
   },
   "outputs": [],
   "source": [
    "sequences = np.array(sequences)\n",
    "\n",
    "np.random.shuffle(sequences)\n",
    "X, y = sequences[:,:-1], sequences[:,-1]"
   ]
  },
  {
   "cell_type": "code",
   "execution_count": 162,
   "metadata": {
    "collapsed": true,
    "deletable": true,
    "editable": true
   },
   "outputs": [],
   "source": [
    "sequences = [to_categorical(x, num_classes=vocab_size) for x in X]\n",
    "\n",
    "X = np.array(sequences)\n",
    "y = to_categorical(y, num_classes=vocab_size)"
   ]
  },
  {
   "cell_type": "markdown",
   "metadata": {},
   "source": [
    "# Build an LSTM model#"
   ]
  },
  {
   "cell_type": "code",
   "execution_count": 100,
   "metadata": {
    "collapsed": false,
    "deletable": true,
    "editable": true
   },
   "outputs": [
    {
     "name": "stdout",
     "output_type": "stream",
     "text": [
      "_________________________________________________________________\n",
      "Layer (type)                 Output Shape              Param #   \n",
      "=================================================================\n",
      "lstm_8 (LSTM)                (None, 10, 128)           89088     \n",
      "_________________________________________________________________\n",
      "dropout_6 (Dropout)          (None, 10, 128)           0         \n",
      "_________________________________________________________________\n",
      "lstm_9 (LSTM)                (None, 128)               131584    \n",
      "_________________________________________________________________\n",
      "dropout_7 (Dropout)          (None, 128)               0         \n",
      "_________________________________________________________________\n",
      "dense_4 (Dense)              (None, 45)                5805      \n",
      "=================================================================\n",
      "Total params: 226,477\n",
      "Trainable params: 226,477\n",
      "Non-trainable params: 0\n",
      "_________________________________________________________________\n",
      "None\n"
     ]
    }
   ],
   "source": [
    "# define model\n",
    "n_batch = len(X)\n",
    "model = Sequential()\n",
    "model.add(LSTM(128, input_shape=( X.shape[1], X.shape[2]), return_sequences=True))\n",
    "model.add(Dropout(0.2))\n",
    "model.add(LSTM(128))\n",
    "model.add(Dropout(0.2))\n",
    "model.add(Dense(vocab_size, activation='softmax'))\n",
    "print(model.summary())"
   ]
  },
  {
   "cell_type": "markdown",
   "metadata": {},
   "source": [
    "# Train the RNN#"
   ]
  },
  {
   "cell_type": "code",
   "execution_count": null,
   "metadata": {
    "collapsed": false,
    "deletable": true,
    "editable": true
   },
   "outputs": [],
   "source": [
    "# compile model\n",
    "model.compile(loss='categorical_crossentropy', optimizer='adam', metrics=['accuracy'])\n",
    "# fit model\n",
    "model.fit(X, y, epochs=100, verbose=2)"
   ]
  },
  {
   "cell_type": "markdown",
   "metadata": {},
   "source": [
    "# Generate sequence from the RNN#"
   ]
  },
  {
   "cell_type": "code",
   "execution_count": 164,
   "metadata": {
    "collapsed": false,
    "deletable": true,
    "editable": true
   },
   "outputs": [
    {
     "name": "stdout",
     "output_type": "stream",
     "text": [
      "if your deck has no duplicates, summon a random minion in your hand it costs 2 less for each minion that died th\n"
     ]
    }
   ],
   "source": [
    "def generate_seq(model, mapping, seq_length, seed_text, n_chars):\n",
    "    in_text = seed_text\n",
    "\n",
    "    for _dummy in range(n_chars):\n",
    "        encoded = [mapping[char] for char in in_text]\n",
    "        encoded = pad_sequences([encoded], maxlen=seq_length, truncating='pre')        \n",
    "        encoded = to_categorical(encoded, num_classes=len(mapping))\n",
    "    \n",
    "        encoded = encoded.reshape(1, encoded.shape[1], encoded.shape[2])\n",
    "        \n",
    "        # predict character\n",
    "        yhat = model.predict_classes(encoded, verbose=0)\n",
    "        out_char = ''\n",
    "        for char, index in mapping.items():\n",
    "            if index == yhat:\n",
    "                out_char = char\n",
    "                break\n",
    "                \n",
    "        # append to input\n",
    "        in_text += char\n",
    "    return in_text\n",
    "\n",
    "# test start of rhyme\n",
    "#print(generate_seq(model, mapping, 10, 'battlecry:', 20))\n",
    "# test mid-linery\n",
    "text = \"if your deck\"\n",
    "print(generate_seq(model, mapping, 10, text, 100))\n",
    "# test not in original\n",
    "#print(generate_seq(model, mapping, 10, 'hello worl', 20))"
   ]
  },
  {
   "cell_type": "markdown",
   "metadata": {
    "collapsed": false,
    "deletable": true,
    "editable": true
   },
   "source": [
    "#Interesting output#"
   ]
  },
  {
   "cell_type": "code",
   "execution_count": null,
   "metadata": {
    "collapsed": true,
    "deletable": true,
    "editable": true
   },
   "outputs": [],
   "source": [
    "battlecry destroy a murloc and gain 2/2 for each card in your hand\n",
    "\n",
    "give a minion 2 attack this turn and 4 armor\n",
    "\n",
    "divine a random 4-cost minion for your opponent casts a spell\n",
    "\n",
    "costs 1 less for each minion that died this game, summon thaddius\n",
    "\n",
    "deal 2 damage to all enemies restore 2 health to your hero and gain 2 attack this turn\n",
    "\n",
    "choose one - give your other minions have 1 attack and health\n",
    "\n",
    "summon a 2/2 ghoul into your opponent's deck\n",
    "\n",
    "battlecry destroy a minion in your hand it costs 2 less for each minion that died this game\n",
    "\n",
    "echo taunt and divine shield\n",
    "\n",
    "windfury while damaged\n",
    "\n",
    "if your deck has no duplicates, summon a random minion in your hand"
   ]
  }
 ],
 "metadata": {
  "kernelspec": {
   "display_name": "Python 3",
   "language": "python",
   "name": "python3"
  },
  "language_info": {
   "codemirror_mode": {
    "name": "ipython",
    "version": 3
   },
   "file_extension": ".py",
   "mimetype": "text/x-python",
   "name": "python",
   "nbconvert_exporter": "python",
   "pygments_lexer": "ipython3",
   "version": "3.5.4"
  }
 },
 "nbformat": 4,
 "nbformat_minor": 2
}
