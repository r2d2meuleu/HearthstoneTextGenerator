{
 "cells": [
  {
   "cell_type": "code",
   "execution_count": 2,
   "metadata": {},
   "outputs": [
    {
     "name": "stderr",
     "output_type": "stream",
     "text": [
      "C:\\Users\\212704419\\AppData\\Local\\Continuum\\anaconda3\\lib\\site-packages\\h5py\\__init__.py:36: FutureWarning: Conversion of the second argument of issubdtype from `float` to `np.floating` is deprecated. In future, it will be treated as `np.float64 == np.dtype(float).type`.\n",
      "  from ._conv import register_converters as _register_converters\n",
      "Using TensorFlow backend.\n"
     ]
    }
   ],
   "source": [
    "import sklearn\n",
    "from hmmlearn import hmm\n",
    "import numpy as np\n",
    "from keras.utils import to_categorical\n",
    "from keras.models import Sequential\n",
    "from keras.layers import Dense, LSTM, Dropout\n",
    "from keras.preprocessing.sequence import pad_sequences\n"
   ]
  },
  {
   "cell_type": "code",
   "execution_count": 350,
   "metadata": {},
   "outputs": [
    {
     "name": "stdout",
     "output_type": "stream",
     "text": [
      "[[ 0.5 ]\n",
      " [ 1.  ]\n",
      " [-1.  ]\n",
      " [ 0.42]\n",
      " [ 0.24]\n",
      " [ 2.4 ]\n",
      " [ 4.2 ]\n",
      " [ 0.5 ]\n",
      " [-0.24]]\n"
     ]
    }
   ],
   "source": [
    "X1 = [[0.5], [1.0], [-1.0], [0.42], [0.24]]\n",
    "X2 = [[2.4], [4.2], [0.5], [-0.24]]\n",
    "X3 = np.concatenate([X1, X2])\n",
    "print(X3)"
   ]
  },
  {
   "cell_type": "code",
   "execution_count": 3,
   "metadata": {},
   "outputs": [],
   "source": [
    "# load doc into memory\n",
    "def load_doc(filename):\n",
    "\t# open the file as read only\n",
    "\tfile = open(filename, 'r')\n",
    "\t# read all text\n",
    "\ttext = file.read()\n",
    "\t# close the file\n",
    "\tfile.close()\n",
    "\treturn text"
   ]
  },
  {
   "cell_type": "code",
   "execution_count": 145,
   "metadata": {},
   "outputs": [],
   "source": [
    "# load text\n",
    "raw_text = load_doc('hs_train.txt')"
   ]
  },
  {
   "cell_type": "code",
   "execution_count": 171,
   "metadata": {},
   "outputs": [
    {
     "name": "stdout",
     "output_type": "stream",
     "text": [
      "[\"battlecry destroy your opponent's weapon\", 'restore a minion to full health and give it taunt', 'summon a random beast companion', 'deal 1 damage to all enemy minions', 'draw 2 cards', 'deal 3 damage randomly split among all enemies', 'deal 2 damage', 'destroy an enemy minion', 'deal 2 damage to an undamaged minion', 'give a minion 4/4 4 attack/4 health', 'give a minion 3 attack', 'give your minions 3 attack this turn', 'charge', 'give a friendly minion 2 attack and charge', 'give your hero 2 attack this turn and 2 armor', 'deal 2 damage to two random enemy minions', 'deal 2 damage to all enemies', 'choose an enemy minion at the start of your turn, destroy it', 'spell damage 1', \"double a minion's health\", 'battlecry summon a 2/1 mechanical dragonling', 'deal 2 damage restore 2 health to your hero', 'battlecry deal 1 damage to all other characters', 'battlecry deal 1 damage', 'draw a card you can only have 10 mana in your tray', 'destroy a damaged enemy minion', 'deal 1 damage to all enemy minions draw a card', 'deal 6 damage', 'deal 4 damage to all enemy minions', 'adjacent minions have 2 attack', 'taunt', 'freeze all enemy minions', 'deal 1 damage to an enemy character and freeze it', 'deal 3 damage to a character and freeze it', 'taunt', 'taunt', 'all other murlocs have 1 attack', 'battlecry restore 6 health to your hero', 'whenever this minion takes damage, gain 3 attack', 'deal 3 damage nl draw a card', 'give a minion divine shield', 'at the end of your turn, restore 1 health to all friendly minions', 'restore 8 health', 'transform a minion into a 0/1 frog with taunt', 'restore 6 health', 'deal 2 damage to all enemies restore 2 health to all friendly characters', 'deal 2 damage', 'battlecry give a friendly beast 2/2 and taunt', 'charge', \"change a minion's attack to 1\", \"change a minion's health to 1\", 'battlecry deal 1 damage', 'taunt', 'deal 3 damage if you have a beast, deal 5 damage instead', 'spell damage 1', 'charge', 'your other minions have 1 attack', 'taunt', 'deal 5 damage to the enemy hero', 'take control of an enemy minion', \"put a copy of a random card in your opponent's hand into your hand\", 'taunt', 'summon two 0/2 minions with taunt', 'taunt', 'deal 1 damage', 'battlecry summon a 1/1 murloc scout', 'battlecry deal 3 damage to the enemy hero', 'whenever a minion is healed, draw a card', 'battlecry draw a card', 'spell damage 1', 'your other minions have 1 attack', 'battlecry summon a 1/1 boar', 'charge', 'give a friendly character 3 attack this turn', 'destroy a demon restore 5 health to your hero', \"return an enemy minion to your opponent's hand\", 'give your characters 2 attack this turn', 'deal 4 damage to a minion', 'destroy a minion with an attack of 5 or more', 'destroy a minion with 3 or less attack', 'battlecry give a friendly minion 1/1', 'gain 5 armor nl draw a card', 'deal 1 damage draw a card', 'deal 4 damage discard a random card', 'draw 4 cards', 'deal 5 damage nl draw a card', 'whenever you summon a beast, draw a card', 'taunt', 'charge', 'battlecry deal 2 damage', 'your other minions have 1/1', 'deal 4 damage to an enemy and 1 damage to all other enemies', 'your other beasts have 1 attack', 'give your totems 2 health', 'look at the top three cards of your deck draw one and discard the others', 'whenever your hero attacks, restore 2 health to it', 'your beasts have charge', \"return all minions to their owner's hand\", 'taunt', 'whenever you summon a minion with 3 or less attack, give it charge', 'freeze any character damaged by this minion', 'deal 1 damage to all minions', 'gain an empty mana crystal', 'give a minion windfury', 'battlecry give a friendly minion windfury', 'charge', \"battlecry if you're holding a dragon, gain 1 attack and charge\", 'draw 2 cards overload 2', 'deathrattle return this to your hand and summon a 4/4 nerubian', 'deal 2 damage to a minion this spell gets double bonus from spell damage', 'charge nl divine shield', 'battlecry reveal a minion in each deck if yours costs more, 1 durability', \"can't attack nl inspire can attack as normal this turn\", 'battlecry reveal a minion in each deck if yours costs more, gain charge', 'at the end of your turn, restore 1 health to all friendly minions', 'taunt', 'inspire restore 2 health to your hero', 'spell damage 1', \"put a random minion from each player's hand into the battlefield\", \"at the end of each turn, destroy this minion if it's your only one\", 'battlecry restore 8 health to your hero', \"taunt nl can't be targeted by spells or hero powers\", 'give a minion 1 health', 'battlecry equip a random weapon for each player', 'whenever a friendly minion dies while this is in your hand, gain 1 attack', 'battlecry deal 4 damage to a random enemy minion', 'deathrattle deal 1-4 damage to a random enemy', 'deal 1 damage to a random minion repeat until a minion dies', \"draw a card nl if it's a beast, it costs 4 less\", \"costs 1 less for each card in your opponent's hand\", 'deathrattle add a spare part card to your hand', 'whenever you summon a mech, gain divine shield', 'deal 3 damage to a minion and the enemy hero', 'battlecry give a random friendly minion divine shield and taunt', 'has 2 attack while you have a mech', 'destroy a minion if you have a damaged minion, this costs 4 less', 'choose one - summon 5 wisps; or give a minion 5/5 and taunt', 'deal 3 damage', \"deal 5 damage to a minion if it's a friendly demon, give it 5/5 instead\", 'battlecry summon two 1/1 boom bots warning bots may explode', 'battlecry if you have a beast, transform this minion into a 7/7', 'windfury, overload 1 nl 50% chance to attack the wrong enemy', 'battlecry give your other minions windfury, taunt, or divine shield nl at random', 'deathrattle deal 2 damage to all minions', 'trigger all deathrattles on your minions', 'at the end of your turn, deal 2 damage to a non-mech minion', 'whenever your opponent plays a card, remove the top 3 cards of your deck', 'give a friendly minion stealth until your next turn', 'when you draw this, deal 2 damage to all characters', 'deal 4 damage to a random enemy minion', 'also damages the minions next to whomever he attacks', 'divine shield', 'whenever this minion takes damage, double its attack', \"gain 1 mana crystal this turn only nl won't trigger gallywix\", 'whenever you cast a 1-mana spell, add a random mech to your hand', 'stealth', 'battlecry give a random friendly minion 1 attack', 'charge nl taunt', 'battlecry if you have a mech, deal 4 damage randomly split among all enemies', 'has 4 attack while your opponent has 6 or more cards in hand', 'choose one - give each player a mana crystal; or each player draws a card', 'battlecry destroy a beast', 'whenever you play a 1-attack minion, give it 2/2', 'if you control a secret at the end of your turn, restore 4 health to your hero', 'deal 2-4 damage to a minion summon a 1/1 imp for each damage dealt', \"at the end of each player's turn, that player draws until they have 3 cards\", 'whenever a friendly mech dies, gain 2/2', 'battlecry take control of a random enemy secret', 'taunt battlecry gain 1 attack for each other beast you have', 'restore 3 health if the target is still damaged, summon a lightwarden', 'deal damage to each minion equal to its attack', 'taunt nl battlecry gain 1/1 for each enemy deathrattle minion', 'deathrattle shuffle this minion into your deck', 'whenever this minion takes damage, add a spare part card to your hand', 'deathrattle give each player a spare part', 'your mechs cost 1 less', 'whenever an enemy minion dies, summon a leper gnome', 'battlecry give your other mechs 2 attack', 'at the start of each turn, gain 1 attack', 'at the start of your turn, if you have at least 3 mechs, destroy them all and form v-07-tr-0n', 'all minions have a 50% chance to attack the wrong enemy', 'summon three 1/1 silver hand recruits equip a 1/4 weapon', 'battlecry add 4 random murlocs to your hand overload 3', '50% chance to attack the wrong enemy', 'stealth nl 50% chance to attack the wrong enemy', '50% chance to attack the wrong enemy', 'whenever you summon a pirate, gain stealth', 'deathrattle summon a random 2-cost minion', 'battlecry give your silver hand recruits 2/2', 'battlecry transform a friendly minion into a random minion with the same cost', \"shuffle an enemy minion into your opponent's deck\", \"swap a minion's attack and health\", 'give a minion taunt', \"destroy a random enemy minion combo and your opponent's weapon\", 'restore 4 health to your hero and gain 2 attack this turn', 'battlecry deal 3 damage to each hero', 'whenever a character is healed, deal 1 damage to a random enemy', 'divine shield', 'battlecry gain 5 armor', 'whenever you summon a pirate, deal 2 damage to a random enemy', 'battlecry give a minion -2 attack this turn', 'whenever you gain armor, give this minion 1 attack', 'freeze any character damaged by this minion', 'spell damage 1', 'your hero power can target minions', 'whenever your opponent casts a spell, gain 1 attack', 'taunt', 'return a friendly minion to your hand', 'give your weapon 3 attack combo give a random friendly minion 3 attack', 'whenever your opponent casts a spell, gain a copy of it and give them a coin', 'restore all characters to full health', 'whenever your opponent casts a spell, summon a burly rockjaw trogg', 'add a random minion to your hand it costs 3 less', 'battlecry give a friendly mech 4 health', 'charge nl mega-windfury can attack four times a turn', 'give a minion 2/4 and spell damage 1', 'at the end of your turn, restore 4 health to your hero', \"adjacent minions can't be targeted by spells or hero powers\", 'give a minion 1 attack', 'windfury', 'deathrattle return a random friendly minion to your hand', 'secret when one of your minions dies, give a random friendly minion 3/2', 'your minions trigger their deathrattles twice', 'deathrattle your opponent draws a card', 'deathrattle give a random friendly minion 3 health', 'secret when a friendly minion dies, put 2 copies of it into your hand', 'battlecry summon an exact copy of this minion at the end of the turn', 'deathrattle if stalagg also died this game, summon thaddius', 'deathrattle summon two 1/1 spectral spiders', 'at the end of each turn, summon all friendly minions that died this turn', 'battlecry enemy spells cost 5 more next turn', 'deathrattle put a secret from your deck into the battlefield', 'deathrattle summon a 4/4 nerubian', 'destroy all minions and summon 2/2 treants to replace them', 'destroy a minion, then return it to life with full health', 'stealth at the start of your turn, gain 1/1', 'taunt', 'deathrattle if feugen also died this game, summon thaddius', 'at the start of your turn, restore this minion to full health', 'whenever you summon a minion with deathrattle, gain 1 attack', 'taunt deathrattle deal 1 damage to all minions', 'deathrattle add a random beast card to your hand', 'deathrattle restore 5 health to the enemy hero', 'taunt deathrattle deal 2 damage to all characters', 'battlecry give a minion 2 attack this turn', 'whenever this minion takes damage, draw a card', 'windfury, charge, divine shield, taunt', 'at the start of your turn, swap this minion with a random one in your hand', \"battlecry change an enemy minion's attack to 1\", 'give a minion \"deathrattle resummon this minion\"', 'battlecry return a friendly minion from the battlefield to your hand', 'battlecry give adjacent minions spell damage 1', \"can't attack\", 'choose one - draw 2 cards; or restore 5 health', 'choose one - nl 5 attack; or 5 health and taunt', 'enrage 5 attack', 'battlecry equip a 2/2 weapon', 'charge nl divine shield', 'battlecry give a friendly minion divine shield', 'divine shield', 'whenever a friendly minion takes damage, gain 1 armor', 'your cards and powers that restore health now deal damage instead', 'deal 8 damage randomly split among all enemies', 'spell damage 1 battlecry draw a card', 'deal 2 damage to a character if that kills it, summon a random demon', 'at the end of your turn, deal 2 damage to all other characters', 'draw a card for each damaged friendly character', 'give a friendly beast 2 attack and immune this turn', 'force an enemy minion to deal its damage to the minions next to it', 'battlecry destroy a minion with an attack of 7 or more', 'give your hero 4 attack this turn and 4 armor', 'choose a minion whenever it attacks, draw a card', 'deal 2 damage to all enemy minions and freeze them', 'stealth at the end of your turn, give another random friendly minion 1 health', 'battlecry all minions lose divine shield gain 3/3 for each shield lost', 'spell damage 1 deathrattle draw a card', \"battlecry remove 1 durability from your opponent's weapon\", 'battlecry gain attack equal to the attack of your weapon', 'deathrattle summon a 4/5 baine bloodhoof', 'battlecry give your weapon 1/1', 'choose one - give your other minions 2/2; or summon two 2/2 treants with taunt', 'restore 4 health to all minions', 'give a minion 2 attack combo 4 attack instead', 'battlecry each player draws 2 cards', 'battlecry give all other murlocs 2 health', \"your minions can't be reduced below 1 health this turn draw a card\", 'secret when your opponent casts a spell, counter it', 'battlecry swap the attack and health of a minion', 'battlecry deal 1 damage to a minion and give it 2 attack', 'whenever one of your other minions dies, draw a card', 'battlecry give a minion 2 attack this turn', 'destroy a random enemy minion', 'battlecry destroy all other minions and discard your hand', 'combo summon a 2/1 defias bandit', 'at the start of your turn, deal 2 damage to a random enemy', 'deal 2 damage to a minion if itâ€™s a friendly demon, give it 2/2 instead', 'this demon has 2/2', 'adjacent minions have 1 attack', 'draw cards until you have as many in hand as your opponent', 'at the start of your turn, destroy all minions', 'taunt costs 1 less per attack of your weapon', \"return a minion to its owner's hand\", 'taunt', 'choose one - charge; or 2 health and taunt', 'charge', 'windfury overload 2', 'whenever a friendly secret is revealed, gain 1 durability', 'battlecry restore 3 health', 'combo gain 2/2 for each card played earlier this turn', 'destroy any minion damaged by this minion', 'change the health of all minions to 1', 'if you control a secret at the end of your turn, gain 2/2', 'deal 2 damage combo deal 4 damage instead', 'deal 5 damage to a minion and 2 damage to adjacent ones', 'battlecry choose a minion and become a copy of it', \"can't be targeted by spells or hero powers\", 'draw a card that card costs 3 less', 'taunt battlecry destroy one of your mana crystals', 'taunt', 'summon two 2/3 spirit wolves with taunt overload 2', 'battlecry deal 3 damage to your hero', 'whenever a minion dies, gain 1 attack', 'summon three 2/2 treants with charge that die at the end of the turn', 'deal 2 damage to 2 random enemy minions overload 2', \"secret when an enemy minion attacks, return it to its owner's hand and it costs 2 more\", 'battlecry freeze a character', 'whenever a minion takes damage, gain 1 attack', 'whenever you cast a spell, draw a card', 'your hero is immune while attacking', 'charge nl enrage 6 attack', 'at the end of each turn, gain 1/1 ', \"battlecry destroy your opponent's weapon and draw cards equal to its durability\", 'deathrattle summon a 2/1 damaged golem', 'deal 2 damage to the enemy hero combo return this to your hand next turn', 'at the end of your turn, summon a 2/2 gnoll with taunt', 'deal 5 damage restore 5 health to your hero', 'battlecry destroy a murloc and gain 2/2', 'secret when your hero is attacked, gain 8 armor', 'secret when your hero takes fatal damage, prevent it and become immune this turn', 'freeze a character if it was already frozen, deal 4 damage instead', 'whenever you play a card, summon a 2/1 flame of azzinoth', 'at the end of your turn, deal 1 damage to this minion and summon a 1/1 imp', \"change a minion's attack to be equal to its health\", 'deal 1 damage to a minion and give it 2 attack', 'battlecry silence a minion', 'stealth', 'choose one - deal 2 damage; or silence a minion', \"combo return a minion to its owner's hand\", 'charge', 'battlecry give your opponent 2 bananas', \"can't be targeted by spells or hero powers\", 'deal 5 damage overload 2', 'restore 8 health draw 3 cards', 'charge battlecry summon two 1/1 whelps for your opponent', 'deathrattle deal 2 damage to the enemy hero', 'deal 3 damage overload 1', 'deal 2-3 damage to all enemy minions overload 2', \"this minion's attack is always equal to its health\", 'deathrattle draw a card', 'battlecry destroy your hero and replace it with lord jaraxxus', 'whenever a player casts a spell, put a copy into the other playerâ€™s hand', 'battlecry deal 3 damage randomly split between all other characters', 'spell damage 5', 'whenever you cast a spell, gain 2 attack this turn', 'at the end of your turn, draw a card', 'choose one - give a minion 4 attack; or 4 health and taunt', 'silence all enemy minions draw a card', 'at the end of your turn, give another random friendly minion 1 attack', 'battlecry give a friendly minion stealth', 'battlecry enemy spells cost 0 next turn', 'battlecry if your opponent has 4 or more minions, take control of one at random', \"put a copy of a random minion from your opponent's deck into the battlefield\", 'secret when your opponent plays a minion, summon a copy of it', 'costs 1 less for each damage your hero has taken', 'deal 4 damage if you have 12 or less health, deal 6 instead', 'costs 1 less for each other card in your hand', 'whenever a murloc is summoned, gain 1 attack', 'all other murlocs have 2/1', 'at the start of your turn, you have a 50% chance to draw an extra card', 'destroy a minion your opponent draws 2 cards', 'give a minion 5/5 at the start of your next turn, destroy it', 'players only have 15 seconds to take their turns', 'battlecry summon 1/1 whelps until your side of the battlefield is full', 'stealth destroy any minion damaged by this minion', 'battlecry deal 1 damage combo deal 2 instead', 'the first minion you play each turn costs 1 less', 'battlecry deal 5 damage to your hero', 'give a friendly minion 4/4 until end of turn then, it dies horribly', 'battlecry restore 4 health to your hero', 'double the damage and healing of your spells and hero power', 'deal 10 damage', 'whenever you play a card, gain 1/1', 'enrage windfury and 1 attack', \"can't attack at the end of your turn, deal 8 damage to a random enemy\", 'give a damaged minion 3/3', 'stealth', 'combo deal 2 damage', \"deal damage equal to your hero's attack to a minion\", 'deathrattle summon two 2/2 hyenas', 'divine shield', 'whenever a friendly beast dies, gain 2/1', 'costs 1 less for each other minion on the battlefield', 'whenever a secret is played, gain 1/1', 'put 2 random demons from your deck into your hand', 'destroy a friendly minion and deal its attack damage to all enemy minions', \"your hero power becomes 'deal 2 damage' if already in shadowform 3 damage\", 'return a friendly minion to your hand it costs 2 less', 'deal 1 damage to a minion for each armor you have', 'taunt', 'silence a minion', 'battlecry summon a 2/2 squire', 'divine shield', 'secret when one of your minions is attacked, summon three 1/1 snakes', 'secret when your opponent plays a minion, deal 4 damage to it', 'your spells cost 1 less', 'give your minions \"deathrattle summon a 2/2 treant\"', 'your other pirates have 1/1', 'has charge while you have a weapon equipped', 'secret when an enemy casts a spell on a minion, summon a 1/3 as the new target', 'taunt', 'enrage your weapon has 2 attack', 'battlecry destroy a random enemy minion with 2 or less attack', 'choose one - deal 5 damage to a minion; or 2 damage to all enemy minions', 'overload 1', 'stealth', 'taunt nl divine shield', 'whenever you summon a minion, give it 1/1 and this loses 1 durability', 'deathrattle take control of a random enemy minion', 'taunt enrage 3 attack', 'battlecry give a friendly minion 3 health', 'deathrattle summon a 3/3 finkle einhorn for your opponent', 'battlecry destroy an enemy minion with taunt', \"copy 2 cards from your opponent's deck and put them into your hand\", 'divine shield taunt deathrattle equip a 5/3 ashbringer', 'charge at the end of the turn, destroy this minion', 'taunt', 'battlecry gain 1 health for each card in your hand', 'destroy all minions', 'whenever you play a card with overload, gain 1/1', 'for each enemy minion, summon a 1/1 hound with charge', 'your minions cost 3 more', 'whenever you cast a spell, summon a 1/1 violet apprentice', 'battlecry destroy the minions on either side of this minion and gain their attack and health', 'after you cast a spell, deal 1 damage to all minions', 'windfury', 'you are out of demons! at least there are always imps', 'choose one - deal 3 damage to a minion; or 1 damage and draw a card', 'windfury', 'at the end of your turn, give another random friendly minion 1 health', 'battlecry return a friendly minion from the battlefield to your hand', 'at the end of your turn, add a dream card to your hand', 'deal 5 damage to all characters except ysera', 'whenever this minion takes damage, deal 2 damage to the enemy hero', \"battlecry if you're holding a dragon, gain 1/1\", 'whenever you draw a card, put another copy into your hand', 'battlecry if your hand is empty, gain 3/3', 'battlecry deal 2 damage to all undamaged enemy minions', 'deal 2 damage to all non-demon minions', 'battlecry the next dragon you play costs 2 less', 'whenever this minion takes damage, summon a 2/1 whelp', 'deal 4 damage costs 1 less for each minion that died this turn', 'choose one - transform into a 5/2 minion; or a 2/5 minion', 'at the end of your turn, reduce the cost of cards in your hand by 1', 'battlecry gain 1-4 attack overload 1', 'after you cast a spell, deal 2 damage randomly split among all enemies', 'choose a minion shuffle 3 copies of it into your deck', 'whenever this minion survives damage, summon another grim patron', 'whenever this minion takes damage, summon a 1/1 imp', 'deal 2 damage nl unlock your overloaded mana crystals', 'deathrattle replace your hero with ragnaros, the firelord', \"battlecry add 2 random spells to your hand from your opponent's class\", 'deal 3 damage nl if your hand is empty, draw a card', \"battlecry if you're holding a dragon, destroy a legendary minion\", 'summon a random friendly minion that died this game', 'deal 1 damage to all minions if you have 12 or less health, deal 3 damage instead', 'costs 1 less for each minion that died this turn', 'taunt nl costs 1 less for each minion that died this turn', 'spell damage 1', 'taunt', 'battlecry restore 2 health to all friendly characters', 'battlecry gain 1/1 for each other friendly minion on the battlefield', 'deal 3 damage to all characters', 'gain 2 mana crystals this turn only', 'deal 1 damage to a minion if that kills it, draw a card', 'transform a minion into a 1/1 sheep', 'taunt', 'charge', 'battlecry restore 2 health', 'spell damage 1', 'gain 10 mana crystals discard your hand', 'taunt nl divine shield', 'whenever your opponent casts a spell, gain 2 attack', 'has 2 attack while you have a mech', 'put a copy of each friendly minion into your hand', 'whenever your hero takes damage on your turn, gain 2/2', \"battlecry draw a card if it's a minion, transform it into a chicken\", \"battlecry shuffle a mine into your opponent's deck when drawn, it explodes for 10 damage\", 'battlecry deal 6 damage randomly split between all other characters', 'stealth nl spell damage 1', 'deathrattle summon a random 4-cost minion', 'battlecry deal 2 damage to all minions with deathrattle', 'whenever another friendly murloc dies, draw a card overload 1', 'battlecry if you have a mech, gain 1/1 and add a spare part to your hand', 'battlecry swap health with another minion', 'deathrattle deal 1 damage to all minions', 'destroy any minion damaged by this minion', 'taunt nl deathrattle summon a 1/2 slime with taunt', 'deathrattle put a random demon from your hand into the battlefield', \"battlecry set a hero's remaining health to 15\", 'charge battlecry give your opponent a mana crystal', 'destroy your weapon and deal its damage to all enemies', 'destroy all minions except one chosen randomly', 'give your minions stealth until your next turn', 'charge battlecry discard two random cards', 'taunt overload 3', 'secret when your hero is attacked, deal 2 damage to all enemies', 'taunt', 'draw a card and deal damage equal to its cost', 'battlecry the next secret you play this turn costs 0', 'whenever a character is healed, gain 2 attack', 'all minions cost 1 more', 'secret when a character attacks your hero, instead he attacks another random character', 'secret when an enemy attacks, summon a 2/1 defender as the new target', 'choose one - give your minions 1/1; or summon a 3/2 panther', 'secret when one of your minions dies, return it to life with 1 health', 'gain control of an enemy minion with 3 or less attack until end of turn', 'destroy a minion restore 3 health to your hero', 'your minions cost 2 less, but not less than 1', 'windfury', 'if you have a weapon, give it 1/1 otherwise equip a 1/3 weapon', 'whenever you target this minion with a spell, gain 1/1', 'battlecry summon a random 1-cost minion for your opponent', 'draw 2 cards costs 1 less for each minion that died this turn']\n"
     ]
    }
   ],
   "source": [
    "raw_lines = raw_text.split('\\n')\n",
    "lines = list(map(lambda x: x[x.index('RARITY_END') + len('RARITY_END ')::], raw_lines))\n",
    "\n",
    "lines = list(filter(lambda x: x != 'NIL', lines))\n",
    "\n",
    "#lines = raw_lines\n",
    "\n",
    "lines = list(map(lambda x: x.replace(\".\", \"\").replace(\"<b>\", \"\").replace(\"</b>\", \"\").replace(\"</i>\", \"\").replace(\"<i>\", \"\"), lines))\n",
    "\n",
    "lines = list(map(lambda x: x.replace(\"$\", \"\").replace(\"+\", \"\").replace(\"(\", \"\").replace(\")\", \"\").replace(\"#\", \"\").replace(\":\", \"\"), lines))\n",
    "\n",
    "#lines = list(map(lambda x: x.replace(\"nl\", \"\"), lines))\n",
    "\n",
    "lines = list(map(lambda x: x.lower(), lines))\n",
    "\n",
    "print(lines)\n"
   ]
  },
  {
   "cell_type": "code",
   "execution_count": 172,
   "metadata": {},
   "outputs": [
    {
     "name": "stdout",
     "output_type": "stream",
     "text": [
      "{' ': 0, '!': 1, '\"': 2, '%': 3, \"'\": 4, '*': 5, ',': 6, '-': 7, '/': 8, '0': 9, '1': 10, '2': 11, '3': 12, '4': 13, '5': 14, '6': 15, '7': 16, '8': 17, ';': 18, 'a': 19, 'b': 20, 'c': 21, 'd': 22, 'e': 23, 'f': 24, 'g': 25, 'h': 26, 'i': 27, 'j': 28, 'k': 29, 'l': 30, 'm': 31, 'n': 32, 'o': 33, 'p': 34, 'q': 35, 'r': 36, 's': 37, 't': 38, 'u': 39, 'v': 40, 'w': 41, 'x': 42, 'y': 43, 'z': 44, 'â': 45, '€': 46, '™': 47}\n",
      "8.227016885553471\n"
     ]
    }
   ],
   "source": [
    "#lines = raw_text.split('\\n')\n",
    "\n",
    "\n",
    "maxval = max(list(map(lambda x: len(x), lines)))\n",
    "\n",
    "minval = min(list(map(lambda x: len(x), lines)))\n",
    "\n",
    "padded_lines = list(map(lambda x: (x + ('*' * (maxval - len(x)))) if (len(x) < maxval) else x, lines))\n",
    "\n",
    "chopped_lines = list(map(lambda x: x[: (minval)] if (len(x) > minval) else x, lines))\n",
    "\n",
    "\n",
    "flat_list = [item for sublist in padded_lines for item in sublist]\n",
    "\n",
    "chars = sorted(list(set(flat_list)))\n",
    "\n",
    "mapping = dict((c, i) for i, c in enumerate(chars))\n",
    "\n",
    "print(mapping)\n",
    "\n",
    "\n",
    "words = list(map(lambda x: x.split(\" \"), lines))\n",
    "\n",
    "#words = list(filter(lambda x: len(x) > 6 and len(x) < 12, words))\n",
    "\n",
    "maxvalwords = max(list(map(lambda x: len(x), words)))\n",
    "minvalwords = min(list(map(lambda x: len(x), words)))\n",
    "\n",
    "\n",
    "padded_words = list(map(lambda x: (x + (['blank'] * (maxvalwords - len(x)))) if (len(x) < maxvalwords) else x, words))\n",
    "\n",
    "chopped_words = chopped_lines = list(map(lambda x: x[: (minvalwords)] if (len(x) > minvalwords) else x, words))\n",
    "\n",
    "print(np.mean(np.array(list(map(lambda x: len(x), words)))))\n",
    "\n",
    "flat_list_words = [item for sublist in words for item in sublist]\n",
    "\n",
    "all_words = sorted(list(set(flat_list_words)))\n",
    "word_map = dict((c, i) for i, c in enumerate(all_words))\n"
   ]
  },
  {
   "cell_type": "code",
   "execution_count": 173,
   "metadata": {},
   "outputs": [
    {
     "name": "stdout",
     "output_type": "stream",
     "text": [
      "Vocabulary Size: 48\n"
     ]
    }
   ],
   "source": [
    "sequences = list()\n",
    "for line in padded_lines:\n",
    "    # integer encode line\n",
    "    encoded_seq = [mapping[char] for char in line]\n",
    "    # store\n",
    "    sequences.append((np.array(encoded_seq)))\n",
    "\n",
    "# vocabulary size\n",
    "vocab_size = len(mapping)\n",
    "print('Vocabulary Size: %d' % vocab_size)"
   ]
  },
  {
   "cell_type": "code",
   "execution_count": 174,
   "metadata": {},
   "outputs": [
    {
     "name": "stdout",
     "output_type": "stream",
     "text": [
      "48\n"
     ]
    }
   ],
   "source": [
    "temp = []\n",
    "lengths_arr = []\n",
    "for line in words:\n",
    "    # integer encode line\n",
    "    encoded_seq = ([np.array(word_map[word]) for word in line])\n",
    "    lengths_arr.append(len(encoded_seq))\n",
    "    # store\n",
    "    temp += encoded_seq\n",
    "\n",
    "# vocabulary size\n",
    "vocab_size = len(mapping)\n",
    "print(vocab_size)"
   ]
  },
  {
   "cell_type": "code",
   "execution_count": 175,
   "metadata": {},
   "outputs": [
    {
     "name": "stdout",
     "output_type": "stream",
     "text": [
      "[ 79 147 422 ... 149 380 393]\n"
     ]
    }
   ],
   "source": [
    "sequences = np.array(temp)\n",
    "\n",
    "print(sequences)"
   ]
  },
  {
   "cell_type": "code",
   "execution_count": 176,
   "metadata": {},
   "outputs": [
    {
     "name": "stdout",
     "output_type": "stream",
     "text": [
      "(4385,)\n"
     ]
    }
   ],
   "source": [
    "print(sequences.shape)"
   ]
  },
  {
   "cell_type": "code",
   "execution_count": 177,
   "metadata": {},
   "outputs": [
    {
     "data": {
      "text/plain": [
       "MultinomialHMM(algorithm='viterbi', init_params='ste', n_components=6,\n",
       "        n_iter=10, params='ste',\n",
       "        random_state=<mtrand.RandomState object at 0x00000234380D9CF0>,\n",
       "        startprob_prior=1.0, tol=0.01, transmat_prior=1.0, verbose=False)"
      ]
     },
     "execution_count": 177,
     "metadata": {},
     "output_type": "execute_result"
    }
   ],
   "source": [
    "sequences = (np.array(sequences.reshape(-1,1)))\n",
    "hmm_model = hmm.MultinomialHMM(n_components=6)\n",
    "hmm_model.fit(sequences, lengths_arr)"
   ]
  },
  {
   "cell_type": "code",
   "execution_count": 178,
   "metadata": {},
   "outputs": [
    {
     "name": "stdout",
     "output_type": "stream",
     "text": [
      "nl damage 5/2 replace hero totems hero 2 to to remove if 4 characters gain minions at 1 a whenever \n"
     ]
    }
   ],
   "source": [
    "predictions = hmm_model.sample(20)\n",
    "\n",
    "inv_map = {v: k for k, v in word_map.items()}\n",
    "\n",
    "output = \"\"\n",
    "\n",
    "for char_arr in predictions[0]:\n",
    "    \n",
    "    output += inv_map[char_arr[0]] + \" \"\n",
    "\n",
    "print(output)\n",
    "#print(output.split(\".\"))"
   ]
  },
  {
   "cell_type": "code",
   "execution_count": 179,
   "metadata": {},
   "outputs": [
    {
     "name": "stdout",
     "output_type": "stream",
     "text": [
      "Total Sequences: 17061\n"
     ]
    }
   ],
   "source": [
    "joined_lines  = \" \".join(lines)\n",
    "\n",
    "length = 12\n",
    "sequences = list()\n",
    "for line in lines:\n",
    "    for i in range(length, len(line)):\n",
    "        # select sequence of tokens\n",
    "        seq = line[i-length:i+1]\n",
    "        # store\n",
    "        sequences.append(seq)\n",
    "print('Total Sequences: %d' % len(sequences))\n",
    "\n",
    "new_input = sequences"
   ]
  },
  {
   "cell_type": "code",
   "execution_count": 180,
   "metadata": {},
   "outputs": [
    {
     "name": "stdout",
     "output_type": "stream",
     "text": [
      "['battlecry des', 'attlecry dest', 'ttlecry destr', 'tlecry destro', 'lecry destroy', 'ecry destroy ', 'cry destroy y', 'ry destroy yo', 'y destroy you', ' destroy your', 'destroy your ', 'estroy your o', 'stroy your op', 'troy your opp', 'roy your oppo', 'oy your oppon', 'y your oppone', ' your opponen', 'your opponent', \"our opponent'\"]\n"
     ]
    }
   ],
   "source": [
    "print(new_input[:20])"
   ]
  },
  {
   "cell_type": "code",
   "execution_count": 181,
   "metadata": {},
   "outputs": [],
   "source": [
    "chars = sorted(list(set(joined_lines)))\n",
    "mapping = dict((c, i) for i, c in enumerate(chars))\n",
    "\n",
    "vocab_size = len(mapping)\n",
    "\n",
    "sequences = list()\n",
    "for line in new_input:\n",
    "\t# integer encode line\n",
    "\tencoded_seq = [mapping[char] for char in line]\n",
    "\t# store\n",
    "\tsequences.append(np.array(encoded_seq))"
   ]
  },
  {
   "cell_type": "code",
   "execution_count": 182,
   "metadata": {},
   "outputs": [
    {
     "name": "stdout",
     "output_type": "stream",
     "text": [
      "(17061, 13)\n"
     ]
    }
   ],
   "source": [
    "sequences = np.array(sequences)\n",
    "\n",
    "print(sequences.shape)\n",
    "np.random.shuffle(sequences)\n",
    "X, y = sequences[:,:-1], sequences[:,-1]"
   ]
  },
  {
   "cell_type": "code",
   "execution_count": 183,
   "metadata": {},
   "outputs": [],
   "source": [
    "sequences = [to_categorical(x, num_classes=vocab_size) for x in X]\n",
    "\n",
    "\n",
    "X = np.array(sequences)\n",
    "y = to_categorical(y, num_classes=vocab_size)"
   ]
  },
  {
   "cell_type": "code",
   "execution_count": 184,
   "metadata": {},
   "outputs": [
    {
     "name": "stdout",
     "output_type": "stream",
     "text": [
      "[[0. 0. 0. ... 0. 0. 0.]\n",
      " [0. 0. 0. ... 0. 0. 0.]\n",
      " [1. 0. 0. ... 0. 0. 0.]\n",
      " ...\n",
      " [0. 0. 0. ... 0. 0. 0.]\n",
      " [0. 0. 0. ... 0. 0. 0.]\n",
      " [0. 0. 0. ... 0. 0. 0.]]\n"
     ]
    }
   ],
   "source": [
    "print(y)"
   ]
  },
  {
   "cell_type": "code",
   "execution_count": 185,
   "metadata": {},
   "outputs": [
    {
     "name": "stdout",
     "output_type": "stream",
     "text": [
      "_________________________________________________________________\n",
      "Layer (type)                 Output Shape              Param #   \n",
      "=================================================================\n",
      "lstm_21 (LSTM)               (None, 12, 128)           90112     \n",
      "_________________________________________________________________\n",
      "dropout_17 (Dropout)         (None, 12, 128)           0         \n",
      "_________________________________________________________________\n",
      "lstm_22 (LSTM)               (None, 128)               131584    \n",
      "_________________________________________________________________\n",
      "dropout_18 (Dropout)         (None, 128)               0         \n",
      "_________________________________________________________________\n",
      "dense_13 (Dense)             (None, 47)                6063      \n",
      "=================================================================\n",
      "Total params: 227,759\n",
      "Trainable params: 227,759\n",
      "Non-trainable params: 0\n",
      "_________________________________________________________________\n",
      "None\n"
     ]
    }
   ],
   "source": [
    "# define model\n",
    "n_batch = len(X)\n",
    "model = Sequential()\n",
    "model.add(LSTM(128, input_shape=( X.shape[1], X.shape[2]),return_sequences=True))\n",
    "model.add(Dropout(0.2))\n",
    "model.add(LSTM(128))\n",
    "model.add(Dropout(0.2))\n",
    "model.add(Dense(vocab_size, activation='softmax'))\n",
    "print(model.summary())"
   ]
  },
  {
   "cell_type": "code",
   "execution_count": 186,
   "metadata": {},
   "outputs": [
    {
     "name": "stdout",
     "output_type": "stream",
     "text": [
      "Epoch 1/100\n",
      " - 20s - loss: 2.8835 - acc: 0.2053\n",
      "Epoch 2/100\n",
      " - 17s - loss: 2.1121 - acc: 0.4099\n",
      "Epoch 3/100\n",
      " - 18s - loss: 1.6128 - acc: 0.5531\n",
      "Epoch 4/100\n",
      " - 17s - loss: 1.3386 - acc: 0.6266\n",
      "Epoch 5/100\n",
      " - 18s - loss: 1.1679 - acc: 0.6756\n",
      "Epoch 6/100\n",
      " - 17s - loss: 1.0454 - acc: 0.7046\n",
      "Epoch 7/100\n",
      " - 17s - loss: 0.9381 - acc: 0.7310\n",
      "Epoch 8/100\n",
      " - 18s - loss: 0.8671 - acc: 0.7522\n",
      "Epoch 9/100\n",
      " - 17s - loss: 0.7981 - acc: 0.7697\n",
      "Epoch 10/100\n",
      " - 18s - loss: 0.7470 - acc: 0.7815\n",
      "Epoch 11/100\n",
      " - 18s - loss: 0.6933 - acc: 0.7989\n",
      "Epoch 12/100\n",
      " - 17s - loss: 0.6585 - acc: 0.8043\n",
      "Epoch 13/100\n",
      " - 18s - loss: 0.6186 - acc: 0.8157\n",
      "Epoch 14/100\n",
      " - 18s - loss: 0.5840 - acc: 0.8245\n",
      "Epoch 15/100\n",
      " - 18s - loss: 0.5564 - acc: 0.8313\n",
      "Epoch 16/100\n",
      " - 17s - loss: 0.5243 - acc: 0.8389\n",
      "Epoch 17/100\n",
      " - 18s - loss: 0.4973 - acc: 0.8496\n",
      "Epoch 18/100\n",
      " - 17s - loss: 0.4770 - acc: 0.8542\n",
      "Epoch 19/100\n",
      " - 18s - loss: 0.4602 - acc: 0.8592\n",
      "Epoch 20/100\n",
      " - 17s - loss: 0.4358 - acc: 0.8659\n",
      "Epoch 21/100\n",
      " - 18s - loss: 0.4225 - acc: 0.8649\n",
      "Epoch 22/100\n",
      " - 17s - loss: 0.4054 - acc: 0.8714\n",
      "Epoch 23/100\n",
      " - 17s - loss: 0.3991 - acc: 0.8738\n",
      "Epoch 24/100\n",
      " - 18s - loss: 0.3760 - acc: 0.8798\n",
      "Epoch 25/100\n",
      " - 17s - loss: 0.3668 - acc: 0.8835\n",
      "Epoch 26/100\n",
      " - 17s - loss: 0.3626 - acc: 0.8852\n",
      "Epoch 27/100\n",
      " - 17s - loss: 0.3444 - acc: 0.8914\n",
      "Epoch 28/100\n",
      " - 18s - loss: 0.3444 - acc: 0.8903\n",
      "Epoch 29/100\n",
      " - 17s - loss: 0.3290 - acc: 0.8945\n",
      "Epoch 30/100\n",
      " - 17s - loss: 0.3263 - acc: 0.8923\n",
      "Epoch 31/100\n",
      " - 18s - loss: 0.3238 - acc: 0.8961\n",
      "Epoch 32/100\n",
      " - 18s - loss: 0.3140 - acc: 0.9001\n",
      "Epoch 33/100\n",
      " - 17s - loss: 0.3040 - acc: 0.9001\n",
      "Epoch 34/100\n",
      " - 18s - loss: 0.2940 - acc: 0.9050\n",
      "Epoch 35/100\n",
      " - 18s - loss: 0.3044 - acc: 0.9021\n",
      "Epoch 36/100\n",
      " - 17s - loss: 0.2890 - acc: 0.9039\n",
      "Epoch 37/100\n",
      " - 18s - loss: 0.2826 - acc: 0.9097\n",
      "Epoch 38/100\n",
      " - 18s - loss: 0.2767 - acc: 0.9082\n",
      "Epoch 39/100\n",
      " - 18s - loss: 0.2786 - acc: 0.9082\n",
      "Epoch 40/100\n",
      " - 17s - loss: 0.2758 - acc: 0.9080\n",
      "Epoch 41/100\n",
      " - 17s - loss: 0.2701 - acc: 0.9121\n",
      "Epoch 42/100\n",
      " - 18s - loss: 0.2684 - acc: 0.9112\n",
      "Epoch 43/100\n",
      " - 17s - loss: 0.2672 - acc: 0.9104\n",
      "Epoch 44/100\n",
      " - 17s - loss: 0.2641 - acc: 0.9122\n",
      "Epoch 45/100\n",
      " - 17s - loss: 0.2557 - acc: 0.9158\n",
      "Epoch 46/100\n",
      " - 18s - loss: 0.2553 - acc: 0.9152\n",
      "Epoch 47/100\n",
      " - 17s - loss: 0.2497 - acc: 0.9177\n",
      "Epoch 48/100\n",
      " - 17s - loss: 0.2560 - acc: 0.9146\n",
      "Epoch 49/100\n",
      " - 18s - loss: 0.2477 - acc: 0.9185\n",
      "Epoch 50/100\n",
      " - 17s - loss: 0.2526 - acc: 0.9158\n",
      "Epoch 51/100\n",
      " - 17s - loss: 0.2508 - acc: 0.9141\n",
      "Epoch 52/100\n",
      " - 17s - loss: 0.2431 - acc: 0.9191\n",
      "Epoch 53/100\n",
      " - 18s - loss: 0.2429 - acc: 0.9173\n",
      "Epoch 54/100\n",
      " - 17s - loss: 0.2406 - acc: 0.9198\n",
      "Epoch 55/100\n",
      " - 18s - loss: 0.2365 - acc: 0.9209\n",
      "Epoch 56/100\n",
      " - 18s - loss: 0.2359 - acc: 0.9213\n",
      "Epoch 57/100\n",
      " - 17s - loss: 0.2348 - acc: 0.9210\n",
      "Epoch 58/100\n",
      " - 17s - loss: 0.2395 - acc: 0.9201\n",
      "Epoch 59/100\n",
      " - 18s - loss: 0.2226 - acc: 0.9242\n",
      "Epoch 60/100\n",
      " - 18s - loss: 0.2276 - acc: 0.9225\n",
      "Epoch 61/100\n",
      " - 18s - loss: 0.2331 - acc: 0.9183\n",
      "Epoch 62/100\n",
      " - 20s - loss: 0.2242 - acc: 0.9243\n",
      "Epoch 63/100\n",
      " - 18s - loss: 0.2313 - acc: 0.9202\n",
      "Epoch 64/100\n",
      " - 19s - loss: 0.2296 - acc: 0.9203\n",
      "Epoch 65/100\n",
      " - 18s - loss: 0.2223 - acc: 0.9225\n",
      "Epoch 66/100\n",
      " - 19s - loss: 0.2172 - acc: 0.9243\n",
      "Epoch 67/100\n",
      " - 18s - loss: 0.2230 - acc: 0.9226\n",
      "Epoch 68/100\n",
      " - 17s - loss: 0.2262 - acc: 0.9220\n",
      "Epoch 69/100\n",
      " - 18s - loss: 0.2173 - acc: 0.9240\n",
      "Epoch 70/100\n",
      " - 18s - loss: 0.2203 - acc: 0.9234\n",
      "Epoch 71/100\n",
      " - 17s - loss: 0.2166 - acc: 0.9256\n",
      "Epoch 72/100\n",
      " - 18s - loss: 0.2158 - acc: 0.9259\n",
      "Epoch 73/100\n",
      " - 17s - loss: 0.2134 - acc: 0.9269\n",
      "Epoch 74/100\n",
      " - 18s - loss: 0.2203 - acc: 0.9240\n",
      "Epoch 75/100\n",
      " - 17s - loss: 0.2127 - acc: 0.9257\n",
      "Epoch 76/100\n",
      " - 18s - loss: 0.2154 - acc: 0.9243\n",
      "Epoch 77/100\n",
      " - 17s - loss: 0.2163 - acc: 0.9240\n",
      "Epoch 78/100\n",
      " - 18s - loss: 0.2127 - acc: 0.9255\n",
      "Epoch 79/100\n",
      " - 18s - loss: 0.2101 - acc: 0.9258\n",
      "Epoch 80/100\n",
      " - 18s - loss: 0.2107 - acc: 0.9267\n",
      "Epoch 81/100\n",
      " - 18s - loss: 0.2092 - acc: 0.9262\n",
      "Epoch 82/100\n",
      " - 18s - loss: 0.2080 - acc: 0.9261\n",
      "Epoch 83/100\n",
      " - 18s - loss: 0.2050 - acc: 0.9270\n",
      "Epoch 84/100\n",
      " - 17s - loss: 0.2054 - acc: 0.9267\n",
      "Epoch 85/100\n",
      " - 18s - loss: 0.2071 - acc: 0.9263\n",
      "Epoch 86/100\n",
      " - 18s - loss: 0.2010 - acc: 0.9270\n",
      "Epoch 87/100\n",
      " - 17s - loss: 0.2002 - acc: 0.9275\n",
      "Epoch 88/100\n",
      " - 18s - loss: 0.2049 - acc: 0.9275\n",
      "Epoch 89/100\n",
      " - 18s - loss: 0.2048 - acc: 0.9264\n",
      "Epoch 90/100\n",
      " - 18s - loss: 0.2040 - acc: 0.9286\n",
      "Epoch 91/100\n",
      " - 19s - loss: 0.1982 - acc: 0.9278\n",
      "Epoch 92/100\n",
      " - 19s - loss: 0.1998 - acc: 0.9273\n",
      "Epoch 93/100\n",
      " - 18s - loss: 0.1970 - acc: 0.9276\n",
      "Epoch 94/100\n",
      " - 17s - loss: 0.2033 - acc: 0.9273\n",
      "Epoch 95/100\n",
      " - 18s - loss: 0.1984 - acc: 0.9280\n",
      "Epoch 96/100\n",
      " - 18s - loss: 0.2039 - acc: 0.9288\n",
      "Epoch 97/100\n",
      " - 18s - loss: 0.2012 - acc: 0.9280\n",
      "Epoch 98/100\n",
      " - 18s - loss: 0.1981 - acc: 0.9275\n",
      "Epoch 99/100\n",
      " - 18s - loss: 0.1971 - acc: 0.9284\n",
      "Epoch 100/100\n",
      " - 18s - loss: 0.1961 - acc: 0.9297\n"
     ]
    },
    {
     "data": {
      "text/plain": [
       "<keras.callbacks.History at 0x2344cda0470>"
      ]
     },
     "execution_count": 186,
     "metadata": {},
     "output_type": "execute_result"
    }
   ],
   "source": [
    "# compile model\n",
    "model.compile(loss='categorical_crossentropy', optimizer='adam', metrics=['accuracy'])\n",
    "# fit model\n",
    "model.fit(X, y, epochs=100, verbose=2)\n"
   ]
  },
  {
   "cell_type": "code",
   "execution_count": 36,
   "metadata": {},
   "outputs": [
    {
     "name": "stdout",
     "output_type": "stream",
     "text": [
      "Epoch 1/1\n",
      "14039/14039 [==============================] - 5s 374us/step - loss: 0.1441 - acc: 0.9509\n",
      "Epoch 1/1\n",
      "14039/14039 [==============================] - 4s 294us/step - loss: 0.1321 - acc: 0.9556\n",
      "Epoch 1/1\n",
      "14039/14039 [==============================] - 4s 290us/step - loss: 0.1278 - acc: 0.9561\n",
      "Epoch 1/1\n",
      "14039/14039 [==============================] - 4s 285us/step - loss: 0.1259 - acc: 0.9575\n",
      "Epoch 1/1\n",
      "14039/14039 [==============================] - 4s 287us/step - loss: 0.1264 - acc: 0.9575\n",
      "Epoch 1/1\n",
      "14039/14039 [==============================] - 4s 311us/step - loss: 0.1198 - acc: 0.9583\n",
      "Epoch 1/1\n",
      "14039/14039 [==============================] - 5s 323us/step - loss: 0.1156 - acc: 0.9596\n",
      "Epoch 1/1\n",
      "14039/14039 [==============================] - 4s 309us/step - loss: 0.1199 - acc: 0.9582\n",
      "Epoch 1/1\n",
      "14039/14039 [==============================] - 4s 320us/step - loss: 0.1170 - acc: 0.9577\n",
      "Epoch 1/1\n",
      "14039/14039 [==============================] - 4s 311us/step - loss: 0.1161 - acc: 0.9580\n",
      "Epoch 1/1\n",
      "14039/14039 [==============================] - 4s 289us/step - loss: 0.1135 - acc: 0.9594\n",
      "Epoch 1/1\n",
      "14039/14039 [==============================] - 4s 307us/step - loss: 0.1128 - acc: 0.9600\n",
      "Epoch 1/1\n",
      "14039/14039 [==============================] - 4s 309us/step - loss: 0.1154 - acc: 0.9586\n",
      "Epoch 1/1\n",
      "14039/14039 [==============================] - 5s 334us/step - loss: 0.1129 - acc: 0.9595\n",
      "Epoch 1/1\n",
      "14039/14039 [==============================] - 4s 291us/step - loss: 0.1133 - acc: 0.9580\n",
      "Epoch 1/1\n",
      "14039/14039 [==============================] - 4s 317us/step - loss: 0.1093 - acc: 0.9605\n",
      "Epoch 1/1\n",
      "14039/14039 [==============================] - 4s 284us/step - loss: 0.1109 - acc: 0.9586\n",
      "Epoch 1/1\n",
      "14039/14039 [==============================] - 4s 297us/step - loss: 0.1116 - acc: 0.9597\n",
      "Epoch 1/1\n",
      "14039/14039 [==============================] - 4s 304us/step - loss: 0.1085 - acc: 0.9612\n",
      "Epoch 1/1\n",
      "14039/14039 [==============================] - 4s 299us/step - loss: 0.1081 - acc: 0.9603\n",
      "Epoch 1/1\n",
      "14039/14039 [==============================] - 4s 301us/step - loss: 0.1096 - acc: 0.9603\n",
      "Epoch 1/1\n",
      "14039/14039 [==============================] - 4s 312us/step - loss: 0.1111 - acc: 0.9598\n",
      "Epoch 1/1\n",
      "14039/14039 [==============================] - 4s 308us/step - loss: 0.1106 - acc: 0.9607\n",
      "Epoch 1/1\n",
      "14039/14039 [==============================] - 4s 291us/step - loss: 0.1095 - acc: 0.9593\n",
      "Epoch 1/1\n",
      "14039/14039 [==============================] - 4s 301us/step - loss: 0.1100 - acc: 0.9586\n",
      "Epoch 1/1\n",
      "14039/14039 [==============================] - 4s 301us/step - loss: 0.1094 - acc: 0.9607\n",
      "Epoch 1/1\n",
      "14039/14039 [==============================] - 4s 308us/step - loss: 0.1079 - acc: 0.9606\n",
      "Epoch 1/1\n",
      "14039/14039 [==============================] - 4s 289us/step - loss: 0.1077 - acc: 0.9599\n",
      "Epoch 1/1\n",
      "14039/14039 [==============================] - 4s 311us/step - loss: 0.1093 - acc: 0.9584\n",
      "Epoch 1/1\n",
      "14039/14039 [==============================] - 4s 320us/step - loss: 0.1061 - acc: 0.9609\n",
      "Epoch 1/1\n",
      "14039/14039 [==============================] - 5s 332us/step - loss: 0.1089 - acc: 0.9593\n",
      "Epoch 1/1\n",
      "14039/14039 [==============================] - 4s 313us/step - loss: 0.1081 - acc: 0.9585\n",
      "Epoch 1/1\n",
      "14039/14039 [==============================] - 4s 308us/step - loss: 0.1034 - acc: 0.9612\n",
      "Epoch 1/1\n",
      "14039/14039 [==============================] - 4s 290us/step - loss: 0.1041 - acc: 0.9616\n",
      "Epoch 1/1\n",
      "14039/14039 [==============================] - 4s 306us/step - loss: 0.1073 - acc: 0.9602\n",
      "Epoch 1/1\n",
      "14039/14039 [==============================] - 4s 308us/step - loss: 0.1054 - acc: 0.9602\n",
      "Epoch 1/1\n",
      "14039/14039 [==============================] - 4s 320us/step - loss: 0.1040 - acc: 0.9617\n",
      "Epoch 1/1\n",
      "14039/14039 [==============================] - 4s 293us/step - loss: 0.1080 - acc: 0.9595\n",
      "Epoch 1/1\n",
      "14039/14039 [==============================] - 4s 283us/step - loss: 0.1044 - acc: 0.9620\n",
      "Epoch 1/1\n",
      "14039/14039 [==============================] - 4s 311us/step - loss: 0.1074 - acc: 0.9598\n",
      "Epoch 1/1\n",
      "14039/14039 [==============================] - 4s 303us/step - loss: 0.1041 - acc: 0.9615\n",
      "Epoch 1/1\n",
      "14039/14039 [==============================] - 4s 297us/step - loss: 0.1061 - acc: 0.9608\n",
      "Epoch 1/1\n",
      "14039/14039 [==============================] - 4s 294us/step - loss: 0.1048 - acc: 0.9610\n",
      "Epoch 1/1\n",
      "14039/14039 [==============================] - 5s 325us/step - loss: 0.1037 - acc: 0.9610\n",
      "Epoch 1/1\n",
      "14039/14039 [==============================] - 4s 304us/step - loss: 0.1060 - acc: 0.9598\n",
      "Epoch 1/1\n",
      "14039/14039 [==============================] - 4s 317us/step - loss: 0.1027 - acc: 0.9614\n",
      "Epoch 1/1\n",
      "14039/14039 [==============================] - 4s 307us/step - loss: 0.1013 - acc: 0.9613\n",
      "Epoch 1/1\n",
      "14039/14039 [==============================] - 4s 313us/step - loss: 0.1032 - acc: 0.9614\n",
      "Epoch 1/1\n",
      "14039/14039 [==============================] - 4s 295us/step - loss: 0.1045 - acc: 0.9614\n",
      "Epoch 1/1\n",
      "14039/14039 [==============================] - 4s 283us/step - loss: 0.1038 - acc: 0.9605\n",
      "Epoch 1/1\n",
      "14039/14039 [==============================] - 4s 281us/step - loss: 0.1006 - acc: 0.9618\n",
      "Epoch 1/1\n",
      "14039/14039 [==============================] - 4s 295us/step - loss: 0.1020 - acc: 0.9612\n",
      "Epoch 1/1\n",
      "14039/14039 [==============================] - 4s 302us/step - loss: 0.1030 - acc: 0.9608\n",
      "Epoch 1/1\n",
      "14039/14039 [==============================] - 4s 294us/step - loss: 0.1016 - acc: 0.9630\n",
      "Epoch 1/1\n",
      "14039/14039 [==============================] - 5s 324us/step - loss: 0.1044 - acc: 0.9596\n",
      "Epoch 1/1\n",
      "14039/14039 [==============================] - 4s 298us/step - loss: 0.1055 - acc: 0.9608\n",
      "Epoch 1/1\n",
      "14039/14039 [==============================] - 4s 283us/step - loss: 0.0996 - acc: 0.9610\n",
      "Epoch 1/1\n",
      "14039/14039 [==============================] - 4s 308us/step - loss: 0.1034 - acc: 0.9614\n",
      "Epoch 1/1\n",
      "14039/14039 [==============================] - 4s 291us/step - loss: 0.1049 - acc: 0.9608\n",
      "Epoch 1/1\n",
      "14039/14039 [==============================] - 4s 313us/step - loss: 0.1012 - acc: 0.9622\n",
      "Epoch 1/1\n",
      "14039/14039 [==============================] - 4s 309us/step - loss: 0.1023 - acc: 0.9608\n",
      "Epoch 1/1\n"
     ]
    },
    {
     "ename": "KeyboardInterrupt",
     "evalue": "",
     "output_type": "error",
     "traceback": [
      "\u001b[1;31m---------------------------------------------------------------------------\u001b[0m",
      "\u001b[1;31mKeyboardInterrupt\u001b[0m                         Traceback (most recent call last)",
      "\u001b[1;32m<ipython-input-36-293f2c408ca0>\u001b[0m in \u001b[0;36m<module>\u001b[1;34m()\u001b[0m\n\u001b[0;32m      3\u001b[0m \u001b[1;31m# fit network\u001b[0m\u001b[1;33m\u001b[0m\u001b[1;33m\u001b[0m\u001b[0m\n\u001b[0;32m      4\u001b[0m \u001b[1;32mfor\u001b[0m \u001b[0mi\u001b[0m \u001b[1;32min\u001b[0m \u001b[0mrange\u001b[0m\u001b[1;33m(\u001b[0m\u001b[0mn_epoch\u001b[0m\u001b[1;33m)\u001b[0m\u001b[1;33m:\u001b[0m\u001b[1;33m\u001b[0m\u001b[0m\n\u001b[1;32m----> 5\u001b[1;33m         \u001b[0mmodel\u001b[0m\u001b[1;33m.\u001b[0m\u001b[0mfit\u001b[0m\u001b[1;33m(\u001b[0m\u001b[0mX\u001b[0m\u001b[1;33m,\u001b[0m \u001b[0my\u001b[0m\u001b[1;33m,\u001b[0m \u001b[0mepochs\u001b[0m\u001b[1;33m=\u001b[0m\u001b[1;36m1\u001b[0m\u001b[1;33m,\u001b[0m \u001b[0mbatch_size\u001b[0m\u001b[1;33m=\u001b[0m\u001b[0mn_batch\u001b[0m\u001b[1;33m,\u001b[0m \u001b[0mverbose\u001b[0m\u001b[1;33m=\u001b[0m\u001b[1;36m1\u001b[0m\u001b[1;33m,\u001b[0m \u001b[0mshuffle\u001b[0m\u001b[1;33m=\u001b[0m\u001b[1;32mFalse\u001b[0m\u001b[1;33m)\u001b[0m\u001b[1;33m\u001b[0m\u001b[0m\n\u001b[0m\u001b[0;32m      6\u001b[0m         \u001b[0mmodel\u001b[0m\u001b[1;33m.\u001b[0m\u001b[0mreset_states\u001b[0m\u001b[1;33m(\u001b[0m\u001b[1;33m)\u001b[0m\u001b[1;33m\u001b[0m\u001b[0m\n",
      "\u001b[1;32m~\\AppData\\Local\\Continuum\\anaconda3\\lib\\site-packages\\keras\\engine\\training.py\u001b[0m in \u001b[0;36mfit\u001b[1;34m(self, x, y, batch_size, epochs, verbose, callbacks, validation_split, validation_data, shuffle, class_weight, sample_weight, initial_epoch, steps_per_epoch, validation_steps, **kwargs)\u001b[0m\n\u001b[0;32m   1040\u001b[0m                                         \u001b[0minitial_epoch\u001b[0m\u001b[1;33m=\u001b[0m\u001b[0minitial_epoch\u001b[0m\u001b[1;33m,\u001b[0m\u001b[1;33m\u001b[0m\u001b[0m\n\u001b[0;32m   1041\u001b[0m                                         \u001b[0msteps_per_epoch\u001b[0m\u001b[1;33m=\u001b[0m\u001b[0msteps_per_epoch\u001b[0m\u001b[1;33m,\u001b[0m\u001b[1;33m\u001b[0m\u001b[0m\n\u001b[1;32m-> 1042\u001b[1;33m                                         validation_steps=validation_steps)\n\u001b[0m\u001b[0;32m   1043\u001b[0m \u001b[1;33m\u001b[0m\u001b[0m\n\u001b[0;32m   1044\u001b[0m     def evaluate(self, x=None, y=None,\n",
      "\u001b[1;32m~\\AppData\\Local\\Continuum\\anaconda3\\lib\\site-packages\\keras\\engine\\training_arrays.py\u001b[0m in \u001b[0;36mfit_loop\u001b[1;34m(model, f, ins, out_labels, batch_size, epochs, verbose, callbacks, val_f, val_ins, shuffle, callback_metrics, initial_epoch, steps_per_epoch, validation_steps)\u001b[0m\n\u001b[0;32m    197\u001b[0m                     \u001b[0mins_batch\u001b[0m\u001b[1;33m[\u001b[0m\u001b[0mi\u001b[0m\u001b[1;33m]\u001b[0m \u001b[1;33m=\u001b[0m \u001b[0mins_batch\u001b[0m\u001b[1;33m[\u001b[0m\u001b[0mi\u001b[0m\u001b[1;33m]\u001b[0m\u001b[1;33m.\u001b[0m\u001b[0mtoarray\u001b[0m\u001b[1;33m(\u001b[0m\u001b[1;33m)\u001b[0m\u001b[1;33m\u001b[0m\u001b[0m\n\u001b[0;32m    198\u001b[0m \u001b[1;33m\u001b[0m\u001b[0m\n\u001b[1;32m--> 199\u001b[1;33m                 \u001b[0mouts\u001b[0m \u001b[1;33m=\u001b[0m \u001b[0mf\u001b[0m\u001b[1;33m(\u001b[0m\u001b[0mins_batch\u001b[0m\u001b[1;33m)\u001b[0m\u001b[1;33m\u001b[0m\u001b[0m\n\u001b[0m\u001b[0;32m    200\u001b[0m                 \u001b[1;32mif\u001b[0m \u001b[1;32mnot\u001b[0m \u001b[0misinstance\u001b[0m\u001b[1;33m(\u001b[0m\u001b[0mouts\u001b[0m\u001b[1;33m,\u001b[0m \u001b[0mlist\u001b[0m\u001b[1;33m)\u001b[0m\u001b[1;33m:\u001b[0m\u001b[1;33m\u001b[0m\u001b[0m\n\u001b[0;32m    201\u001b[0m                     \u001b[0mouts\u001b[0m \u001b[1;33m=\u001b[0m \u001b[1;33m[\u001b[0m\u001b[0mouts\u001b[0m\u001b[1;33m]\u001b[0m\u001b[1;33m\u001b[0m\u001b[0m\n",
      "\u001b[1;32m~\\AppData\\Local\\Continuum\\anaconda3\\lib\\site-packages\\keras\\backend\\tensorflow_backend.py\u001b[0m in \u001b[0;36m__call__\u001b[1;34m(self, inputs)\u001b[0m\n\u001b[0;32m   2659\u001b[0m                 \u001b[1;32mreturn\u001b[0m \u001b[0mself\u001b[0m\u001b[1;33m.\u001b[0m\u001b[0m_legacy_call\u001b[0m\u001b[1;33m(\u001b[0m\u001b[0minputs\u001b[0m\u001b[1;33m)\u001b[0m\u001b[1;33m\u001b[0m\u001b[0m\n\u001b[0;32m   2660\u001b[0m \u001b[1;33m\u001b[0m\u001b[0m\n\u001b[1;32m-> 2661\u001b[1;33m             \u001b[1;32mreturn\u001b[0m \u001b[0mself\u001b[0m\u001b[1;33m.\u001b[0m\u001b[0m_call\u001b[0m\u001b[1;33m(\u001b[0m\u001b[0minputs\u001b[0m\u001b[1;33m)\u001b[0m\u001b[1;33m\u001b[0m\u001b[0m\n\u001b[0m\u001b[0;32m   2662\u001b[0m         \u001b[1;32melse\u001b[0m\u001b[1;33m:\u001b[0m\u001b[1;33m\u001b[0m\u001b[0m\n\u001b[0;32m   2663\u001b[0m             \u001b[1;32mif\u001b[0m \u001b[0mpy_any\u001b[0m\u001b[1;33m(\u001b[0m\u001b[0mis_tensor\u001b[0m\u001b[1;33m(\u001b[0m\u001b[0mx\u001b[0m\u001b[1;33m)\u001b[0m \u001b[1;32mfor\u001b[0m \u001b[0mx\u001b[0m \u001b[1;32min\u001b[0m \u001b[0minputs\u001b[0m\u001b[1;33m)\u001b[0m\u001b[1;33m:\u001b[0m\u001b[1;33m\u001b[0m\u001b[0m\n",
      "\u001b[1;32m~\\AppData\\Local\\Continuum\\anaconda3\\lib\\site-packages\\keras\\backend\\tensorflow_backend.py\u001b[0m in \u001b[0;36m_call\u001b[1;34m(self, inputs)\u001b[0m\n\u001b[0;32m   2629\u001b[0m                                 \u001b[0msymbol_vals\u001b[0m\u001b[1;33m,\u001b[0m\u001b[1;33m\u001b[0m\u001b[0m\n\u001b[0;32m   2630\u001b[0m                                 session)\n\u001b[1;32m-> 2631\u001b[1;33m         \u001b[0mfetched\u001b[0m \u001b[1;33m=\u001b[0m \u001b[0mself\u001b[0m\u001b[1;33m.\u001b[0m\u001b[0m_callable_fn\u001b[0m\u001b[1;33m(\u001b[0m\u001b[1;33m*\u001b[0m\u001b[0marray_vals\u001b[0m\u001b[1;33m)\u001b[0m\u001b[1;33m\u001b[0m\u001b[0m\n\u001b[0m\u001b[0;32m   2632\u001b[0m         \u001b[1;32mreturn\u001b[0m \u001b[0mfetched\u001b[0m\u001b[1;33m[\u001b[0m\u001b[1;33m:\u001b[0m\u001b[0mlen\u001b[0m\u001b[1;33m(\u001b[0m\u001b[0mself\u001b[0m\u001b[1;33m.\u001b[0m\u001b[0moutputs\u001b[0m\u001b[1;33m)\u001b[0m\u001b[1;33m]\u001b[0m\u001b[1;33m\u001b[0m\u001b[0m\n\u001b[0;32m   2633\u001b[0m \u001b[1;33m\u001b[0m\u001b[0m\n",
      "\u001b[1;32m~\\AppData\\Local\\Continuum\\anaconda3\\lib\\site-packages\\tensorflow\\python\\client\\session.py\u001b[0m in \u001b[0;36m__call__\u001b[1;34m(self, *args)\u001b[0m\n\u001b[0;32m   1449\u001b[0m         \u001b[1;32mif\u001b[0m \u001b[0mself\u001b[0m\u001b[1;33m.\u001b[0m\u001b[0m_session\u001b[0m\u001b[1;33m.\u001b[0m\u001b[0m_created_with_new_api\u001b[0m\u001b[1;33m:\u001b[0m\u001b[1;33m\u001b[0m\u001b[0m\n\u001b[0;32m   1450\u001b[0m           return tf_session.TF_SessionRunCallable(\n\u001b[1;32m-> 1451\u001b[1;33m               self._session._session, self._handle, args, status, None)\n\u001b[0m\u001b[0;32m   1452\u001b[0m         \u001b[1;32melse\u001b[0m\u001b[1;33m:\u001b[0m\u001b[1;33m\u001b[0m\u001b[0m\n\u001b[0;32m   1453\u001b[0m           return tf_session.TF_DeprecatedSessionRunCallable(\n",
      "\u001b[1;31mKeyboardInterrupt\u001b[0m: "
     ]
    }
   ],
   "source": [
    "n_epoch = 1000\n",
    "model.compile(loss='categorical_crossentropy', optimizer='adam', metrics=['accuracy'])\n",
    "# fit network\n",
    "for i in range(n_epoch):\n",
    "\tmodel.fit(X, y, epochs=1, batch_size=n_batch, verbose=1, shuffle=False)\n",
    "\tmodel.reset_states()"
   ]
  },
  {
   "cell_type": "code",
   "execution_count": 226,
   "metadata": {},
   "outputs": [
    {
     "name": "stdout",
     "output_type": "stream",
     "text": [
      "choose one - give your other minions have 1 attack and health of all minions to their owner's hand and it costs 2 less benacen and freeze them attack of your weapon has 2 attack while you have a mech, gain divine shield gain 3/3 for each shield lost dis attack damage to all enemies restore 2 health to your hero and gain 2 attack this turn and 4 armor nl draw a card you can only have 15 s conts to your hand it\n"
     ]
    }
   ],
   "source": [
    "# generate a sequence of characters with a language model\n",
    "def generate_seq(model, mapping, seq_length, seed_text, n_chars):\n",
    "    in_text = seed_text\n",
    "    # generate a fixed number of characters\n",
    "    for _ in range(n_chars):\n",
    "        # encode the characters as integers\n",
    "        encoded = [mapping[char] for char in in_text]\n",
    "        # truncate sequences to a fixed length\n",
    "        encoded = pad_sequences([encoded], maxlen=seq_length, truncating='pre')\n",
    "        # one hot encode\n",
    "        \n",
    "        encoded = to_categorical(encoded, num_classes=len(mapping))\n",
    "    \n",
    "        encoded = encoded.reshape(1, encoded.shape[1], encoded.shape[2])\n",
    "        # predict character\n",
    "        yhat = model.predict_classes(encoded, verbose=0)\n",
    "        # reverse map integer to character\n",
    "        out_char = ''\n",
    "        for char, index in mapping.items():\n",
    "            if index == yhat:\n",
    "                out_char = char\n",
    "                break\n",
    "        # append to input\n",
    "        in_text += char\n",
    "    return in_text\n",
    "\n",
    "# test start of rhyme\n",
    "#print(generate_seq(model, mapping, 10, 'battlecry:', 20))\n",
    "# test mid-linery\n",
    "text = \"choose one -\"\n",
    "print(generate_seq(model, mapping, 12, text, 400))\n",
    "# test not in original\n",
    "#print(generate_seq(model, mapping, 10, 'hello worl', 20))"
   ]
  },
  {
   "cell_type": "code",
   "execution_count": 16,
   "metadata": {},
   "outputs": [
    {
     "name": "stdout",
     "output_type": "stream",
     "text": [
      "\n"
     ]
    }
   ],
   "source": []
  },
  {
   "cell_type": "code",
   "execution_count": null,
   "metadata": {},
   "outputs": [],
   "source": [
    "battlecry destroy a murloc and gain 2/2 for each card in your hand\n",
    "\n",
    "give a minion 2 attack this turn and 4 armor\n",
    "\n",
    "divine a random 4-cost minion for your opponent casts a spell\n",
    "\n",
    "costs 1 less for each minion that died this game, summon thaddius\n",
    "\n",
    "deal 2 damage to all enemies restore 2 health to your hero and gain 2 attack this turn\n",
    "\n",
    "choose one - give your other minions have 1 attack and health"
   ]
  }
 ],
 "metadata": {
  "kernelspec": {
   "display_name": "Python 3",
   "language": "python",
   "name": "python3"
  },
  "language_info": {
   "codemirror_mode": {
    "name": "ipython",
    "version": 3
   },
   "file_extension": ".py",
   "mimetype": "text/x-python",
   "name": "python",
   "nbconvert_exporter": "python",
   "pygments_lexer": "ipython3",
   "version": "3.6.5"
  }
 },
 "nbformat": 4,
 "nbformat_minor": 2
}
